{
  "cells": [
    {
      "cell_type": "markdown",
      "source": [
        "##__Final Project: EDA__\n",
        "\n",
        "Name: Drew Zink\n",
        "\n",
        "Topic: NCAA Division 1 College Basketball Predictive Metrics\n",
        "\n",
        "[*Dataset Origin*](https://www.kaggle.com/datasets/andrewsundberg/college-basketball-dataset)"
      ],
      "metadata": {
        "id": "VEZNBf0fxMaS"
      }
    },
    {
      "cell_type": "code",
      "source": [
        "import numpy as np\n",
        "import pandas as pd\n",
        "import matplotlib.pyplot as plt\n",
        "import seaborn as sns\n",
        "import warnings\n",
        "warnings.filterwarnings('ignore')"
      ],
      "metadata": {
        "id": "5C2XMmMrxmxq"
      },
      "execution_count": 2,
      "outputs": []
    },
    {
      "cell_type": "markdown",
      "source": [
        "For this project, I decided to obtain a dataset from Kaggle pertaining to College Basketball. I have been fascinated with the do-or-die nature of the NCAA Tournament since I first fell in love with sports at the age of 12, so I thought it would be a good fit for me since it is something I am passionate about. This dataset contains statistics from the last 10 years (2013-2023) on every single season a college basketball team has played."
      ],
      "metadata": {
        "id": "4ws4-9rrxmWn"
      }
    },
    {
      "cell_type": "code",
      "source": [
        "# Load College Basketball Dataset\n",
        "cbb = pd.read_csv('cbb.csv')\n",
        "cbb.head(5)"
      ],
      "metadata": {
        "colab": {
          "base_uri": "https://localhost:8080/",
          "height": 253
        },
        "id": "qsQbcY0WzYQp",
        "outputId": "bc9b90b8-e3d4-4db6-b247-e97e850000ee"
      },
      "execution_count": 3,
      "outputs": [
        {
          "output_type": "execute_result",
          "data": {
            "text/plain": [
              "             TEAM CONF   G   W  ADJOE  ADJDE  BARTHAG  EFG_O  EFG_D   TOR  \\\n",
              "0  North Carolina  ACC  40  33  123.3   94.9   0.9531   52.6   48.1  15.4   \n",
              "1       Wisconsin  B10  40  36  129.1   93.6   0.9758   54.8   47.7  12.4   \n",
              "2        Michigan  B10  40  33  114.4   90.4   0.9375   53.9   47.7  14.0   \n",
              "3      Texas Tech  B12  38  31  115.2   85.2   0.9696   53.5   43.0  17.7   \n",
              "4         Gonzaga  WCC  39  37  117.8   86.3   0.9728   56.6   41.1  16.2   \n",
              "\n",
              "   ...  FTRD  2P_O  2P_D  3P_O  3P_D  ADJ_T   WAB  POSTSEASON  SEED  YEAR  \n",
              "0  ...  30.4  53.9  44.6  32.7  36.2   71.7   8.6         2ND   1.0  2016  \n",
              "1  ...  22.4  54.8  44.7  36.5  37.5   59.3  11.3         2ND   1.0  2015  \n",
              "2  ...  30.0  54.7  46.8  35.2  33.2   65.9   6.9         2ND   3.0  2018  \n",
              "3  ...  36.6  52.8  41.9  36.5  29.7   67.5   7.0         2ND   3.0  2019  \n",
              "4  ...  26.9  56.3  40.0  38.2  29.0   71.5   7.7         2ND   1.0  2017  \n",
              "\n",
              "[5 rows x 24 columns]"
            ],
            "text/html": [
              "\n",
              "  <div id=\"df-109ea7a3-11a5-43c9-b477-c6c4c5c697cb\" class=\"colab-df-container\">\n",
              "    <div>\n",
              "<style scoped>\n",
              "    .dataframe tbody tr th:only-of-type {\n",
              "        vertical-align: middle;\n",
              "    }\n",
              "\n",
              "    .dataframe tbody tr th {\n",
              "        vertical-align: top;\n",
              "    }\n",
              "\n",
              "    .dataframe thead th {\n",
              "        text-align: right;\n",
              "    }\n",
              "</style>\n",
              "<table border=\"1\" class=\"dataframe\">\n",
              "  <thead>\n",
              "    <tr style=\"text-align: right;\">\n",
              "      <th></th>\n",
              "      <th>TEAM</th>\n",
              "      <th>CONF</th>\n",
              "      <th>G</th>\n",
              "      <th>W</th>\n",
              "      <th>ADJOE</th>\n",
              "      <th>ADJDE</th>\n",
              "      <th>BARTHAG</th>\n",
              "      <th>EFG_O</th>\n",
              "      <th>EFG_D</th>\n",
              "      <th>TOR</th>\n",
              "      <th>...</th>\n",
              "      <th>FTRD</th>\n",
              "      <th>2P_O</th>\n",
              "      <th>2P_D</th>\n",
              "      <th>3P_O</th>\n",
              "      <th>3P_D</th>\n",
              "      <th>ADJ_T</th>\n",
              "      <th>WAB</th>\n",
              "      <th>POSTSEASON</th>\n",
              "      <th>SEED</th>\n",
              "      <th>YEAR</th>\n",
              "    </tr>\n",
              "  </thead>\n",
              "  <tbody>\n",
              "    <tr>\n",
              "      <th>0</th>\n",
              "      <td>North Carolina</td>\n",
              "      <td>ACC</td>\n",
              "      <td>40</td>\n",
              "      <td>33</td>\n",
              "      <td>123.3</td>\n",
              "      <td>94.9</td>\n",
              "      <td>0.9531</td>\n",
              "      <td>52.6</td>\n",
              "      <td>48.1</td>\n",
              "      <td>15.4</td>\n",
              "      <td>...</td>\n",
              "      <td>30.4</td>\n",
              "      <td>53.9</td>\n",
              "      <td>44.6</td>\n",
              "      <td>32.7</td>\n",
              "      <td>36.2</td>\n",
              "      <td>71.7</td>\n",
              "      <td>8.6</td>\n",
              "      <td>2ND</td>\n",
              "      <td>1.0</td>\n",
              "      <td>2016</td>\n",
              "    </tr>\n",
              "    <tr>\n",
              "      <th>1</th>\n",
              "      <td>Wisconsin</td>\n",
              "      <td>B10</td>\n",
              "      <td>40</td>\n",
              "      <td>36</td>\n",
              "      <td>129.1</td>\n",
              "      <td>93.6</td>\n",
              "      <td>0.9758</td>\n",
              "      <td>54.8</td>\n",
              "      <td>47.7</td>\n",
              "      <td>12.4</td>\n",
              "      <td>...</td>\n",
              "      <td>22.4</td>\n",
              "      <td>54.8</td>\n",
              "      <td>44.7</td>\n",
              "      <td>36.5</td>\n",
              "      <td>37.5</td>\n",
              "      <td>59.3</td>\n",
              "      <td>11.3</td>\n",
              "      <td>2ND</td>\n",
              "      <td>1.0</td>\n",
              "      <td>2015</td>\n",
              "    </tr>\n",
              "    <tr>\n",
              "      <th>2</th>\n",
              "      <td>Michigan</td>\n",
              "      <td>B10</td>\n",
              "      <td>40</td>\n",
              "      <td>33</td>\n",
              "      <td>114.4</td>\n",
              "      <td>90.4</td>\n",
              "      <td>0.9375</td>\n",
              "      <td>53.9</td>\n",
              "      <td>47.7</td>\n",
              "      <td>14.0</td>\n",
              "      <td>...</td>\n",
              "      <td>30.0</td>\n",
              "      <td>54.7</td>\n",
              "      <td>46.8</td>\n",
              "      <td>35.2</td>\n",
              "      <td>33.2</td>\n",
              "      <td>65.9</td>\n",
              "      <td>6.9</td>\n",
              "      <td>2ND</td>\n",
              "      <td>3.0</td>\n",
              "      <td>2018</td>\n",
              "    </tr>\n",
              "    <tr>\n",
              "      <th>3</th>\n",
              "      <td>Texas Tech</td>\n",
              "      <td>B12</td>\n",
              "      <td>38</td>\n",
              "      <td>31</td>\n",
              "      <td>115.2</td>\n",
              "      <td>85.2</td>\n",
              "      <td>0.9696</td>\n",
              "      <td>53.5</td>\n",
              "      <td>43.0</td>\n",
              "      <td>17.7</td>\n",
              "      <td>...</td>\n",
              "      <td>36.6</td>\n",
              "      <td>52.8</td>\n",
              "      <td>41.9</td>\n",
              "      <td>36.5</td>\n",
              "      <td>29.7</td>\n",
              "      <td>67.5</td>\n",
              "      <td>7.0</td>\n",
              "      <td>2ND</td>\n",
              "      <td>3.0</td>\n",
              "      <td>2019</td>\n",
              "    </tr>\n",
              "    <tr>\n",
              "      <th>4</th>\n",
              "      <td>Gonzaga</td>\n",
              "      <td>WCC</td>\n",
              "      <td>39</td>\n",
              "      <td>37</td>\n",
              "      <td>117.8</td>\n",
              "      <td>86.3</td>\n",
              "      <td>0.9728</td>\n",
              "      <td>56.6</td>\n",
              "      <td>41.1</td>\n",
              "      <td>16.2</td>\n",
              "      <td>...</td>\n",
              "      <td>26.9</td>\n",
              "      <td>56.3</td>\n",
              "      <td>40.0</td>\n",
              "      <td>38.2</td>\n",
              "      <td>29.0</td>\n",
              "      <td>71.5</td>\n",
              "      <td>7.7</td>\n",
              "      <td>2ND</td>\n",
              "      <td>1.0</td>\n",
              "      <td>2017</td>\n",
              "    </tr>\n",
              "  </tbody>\n",
              "</table>\n",
              "<p>5 rows × 24 columns</p>\n",
              "</div>\n",
              "    <div class=\"colab-df-buttons\">\n",
              "\n",
              "  <div class=\"colab-df-container\">\n",
              "    <button class=\"colab-df-convert\" onclick=\"convertToInteractive('df-109ea7a3-11a5-43c9-b477-c6c4c5c697cb')\"\n",
              "            title=\"Convert this dataframe to an interactive table.\"\n",
              "            style=\"display:none;\">\n",
              "\n",
              "  <svg xmlns=\"http://www.w3.org/2000/svg\" height=\"24px\" viewBox=\"0 -960 960 960\">\n",
              "    <path d=\"M120-120v-720h720v720H120Zm60-500h600v-160H180v160Zm220 220h160v-160H400v160Zm0 220h160v-160H400v160ZM180-400h160v-160H180v160Zm440 0h160v-160H620v160ZM180-180h160v-160H180v160Zm440 0h160v-160H620v160Z\"/>\n",
              "  </svg>\n",
              "    </button>\n",
              "\n",
              "  <style>\n",
              "    .colab-df-container {\n",
              "      display:flex;\n",
              "      gap: 12px;\n",
              "    }\n",
              "\n",
              "    .colab-df-convert {\n",
              "      background-color: #E8F0FE;\n",
              "      border: none;\n",
              "      border-radius: 50%;\n",
              "      cursor: pointer;\n",
              "      display: none;\n",
              "      fill: #1967D2;\n",
              "      height: 32px;\n",
              "      padding: 0 0 0 0;\n",
              "      width: 32px;\n",
              "    }\n",
              "\n",
              "    .colab-df-convert:hover {\n",
              "      background-color: #E2EBFA;\n",
              "      box-shadow: 0px 1px 2px rgba(60, 64, 67, 0.3), 0px 1px 3px 1px rgba(60, 64, 67, 0.15);\n",
              "      fill: #174EA6;\n",
              "    }\n",
              "\n",
              "    .colab-df-buttons div {\n",
              "      margin-bottom: 4px;\n",
              "    }\n",
              "\n",
              "    [theme=dark] .colab-df-convert {\n",
              "      background-color: #3B4455;\n",
              "      fill: #D2E3FC;\n",
              "    }\n",
              "\n",
              "    [theme=dark] .colab-df-convert:hover {\n",
              "      background-color: #434B5C;\n",
              "      box-shadow: 0px 1px 3px 1px rgba(0, 0, 0, 0.15);\n",
              "      filter: drop-shadow(0px 1px 2px rgba(0, 0, 0, 0.3));\n",
              "      fill: #FFFFFF;\n",
              "    }\n",
              "  </style>\n",
              "\n",
              "    <script>\n",
              "      const buttonEl =\n",
              "        document.querySelector('#df-109ea7a3-11a5-43c9-b477-c6c4c5c697cb button.colab-df-convert');\n",
              "      buttonEl.style.display =\n",
              "        google.colab.kernel.accessAllowed ? 'block' : 'none';\n",
              "\n",
              "      async function convertToInteractive(key) {\n",
              "        const element = document.querySelector('#df-109ea7a3-11a5-43c9-b477-c6c4c5c697cb');\n",
              "        const dataTable =\n",
              "          await google.colab.kernel.invokeFunction('convertToInteractive',\n",
              "                                                    [key], {});\n",
              "        if (!dataTable) return;\n",
              "\n",
              "        const docLinkHtml = 'Like what you see? Visit the ' +\n",
              "          '<a target=\"_blank\" href=https://colab.research.google.com/notebooks/data_table.ipynb>data table notebook</a>'\n",
              "          + ' to learn more about interactive tables.';\n",
              "        element.innerHTML = '';\n",
              "        dataTable['output_type'] = 'display_data';\n",
              "        await google.colab.output.renderOutput(dataTable, element);\n",
              "        const docLink = document.createElement('div');\n",
              "        docLink.innerHTML = docLinkHtml;\n",
              "        element.appendChild(docLink);\n",
              "      }\n",
              "    </script>\n",
              "  </div>\n",
              "\n",
              "\n",
              "<div id=\"df-03f841f9-dcaf-4bde-bfc3-db844d3731fb\">\n",
              "  <button class=\"colab-df-quickchart\" onclick=\"quickchart('df-03f841f9-dcaf-4bde-bfc3-db844d3731fb')\"\n",
              "            title=\"Suggest charts\"\n",
              "            style=\"display:none;\">\n",
              "\n",
              "<svg xmlns=\"http://www.w3.org/2000/svg\" height=\"24px\"viewBox=\"0 0 24 24\"\n",
              "     width=\"24px\">\n",
              "    <g>\n",
              "        <path d=\"M19 3H5c-1.1 0-2 .9-2 2v14c0 1.1.9 2 2 2h14c1.1 0 2-.9 2-2V5c0-1.1-.9-2-2-2zM9 17H7v-7h2v7zm4 0h-2V7h2v10zm4 0h-2v-4h2v4z\"/>\n",
              "    </g>\n",
              "</svg>\n",
              "  </button>\n",
              "\n",
              "<style>\n",
              "  .colab-df-quickchart {\n",
              "      --bg-color: #E8F0FE;\n",
              "      --fill-color: #1967D2;\n",
              "      --hover-bg-color: #E2EBFA;\n",
              "      --hover-fill-color: #174EA6;\n",
              "      --disabled-fill-color: #AAA;\n",
              "      --disabled-bg-color: #DDD;\n",
              "  }\n",
              "\n",
              "  [theme=dark] .colab-df-quickchart {\n",
              "      --bg-color: #3B4455;\n",
              "      --fill-color: #D2E3FC;\n",
              "      --hover-bg-color: #434B5C;\n",
              "      --hover-fill-color: #FFFFFF;\n",
              "      --disabled-bg-color: #3B4455;\n",
              "      --disabled-fill-color: #666;\n",
              "  }\n",
              "\n",
              "  .colab-df-quickchart {\n",
              "    background-color: var(--bg-color);\n",
              "    border: none;\n",
              "    border-radius: 50%;\n",
              "    cursor: pointer;\n",
              "    display: none;\n",
              "    fill: var(--fill-color);\n",
              "    height: 32px;\n",
              "    padding: 0;\n",
              "    width: 32px;\n",
              "  }\n",
              "\n",
              "  .colab-df-quickchart:hover {\n",
              "    background-color: var(--hover-bg-color);\n",
              "    box-shadow: 0 1px 2px rgba(60, 64, 67, 0.3), 0 1px 3px 1px rgba(60, 64, 67, 0.15);\n",
              "    fill: var(--button-hover-fill-color);\n",
              "  }\n",
              "\n",
              "  .colab-df-quickchart-complete:disabled,\n",
              "  .colab-df-quickchart-complete:disabled:hover {\n",
              "    background-color: var(--disabled-bg-color);\n",
              "    fill: var(--disabled-fill-color);\n",
              "    box-shadow: none;\n",
              "  }\n",
              "\n",
              "  .colab-df-spinner {\n",
              "    border: 2px solid var(--fill-color);\n",
              "    border-color: transparent;\n",
              "    border-bottom-color: var(--fill-color);\n",
              "    animation:\n",
              "      spin 1s steps(1) infinite;\n",
              "  }\n",
              "\n",
              "  @keyframes spin {\n",
              "    0% {\n",
              "      border-color: transparent;\n",
              "      border-bottom-color: var(--fill-color);\n",
              "      border-left-color: var(--fill-color);\n",
              "    }\n",
              "    20% {\n",
              "      border-color: transparent;\n",
              "      border-left-color: var(--fill-color);\n",
              "      border-top-color: var(--fill-color);\n",
              "    }\n",
              "    30% {\n",
              "      border-color: transparent;\n",
              "      border-left-color: var(--fill-color);\n",
              "      border-top-color: var(--fill-color);\n",
              "      border-right-color: var(--fill-color);\n",
              "    }\n",
              "    40% {\n",
              "      border-color: transparent;\n",
              "      border-right-color: var(--fill-color);\n",
              "      border-top-color: var(--fill-color);\n",
              "    }\n",
              "    60% {\n",
              "      border-color: transparent;\n",
              "      border-right-color: var(--fill-color);\n",
              "    }\n",
              "    80% {\n",
              "      border-color: transparent;\n",
              "      border-right-color: var(--fill-color);\n",
              "      border-bottom-color: var(--fill-color);\n",
              "    }\n",
              "    90% {\n",
              "      border-color: transparent;\n",
              "      border-bottom-color: var(--fill-color);\n",
              "    }\n",
              "  }\n",
              "</style>\n",
              "\n",
              "  <script>\n",
              "    async function quickchart(key) {\n",
              "      const quickchartButtonEl =\n",
              "        document.querySelector('#' + key + ' button');\n",
              "      quickchartButtonEl.disabled = true;  // To prevent multiple clicks.\n",
              "      quickchartButtonEl.classList.add('colab-df-spinner');\n",
              "      try {\n",
              "        const charts = await google.colab.kernel.invokeFunction(\n",
              "            'suggestCharts', [key], {});\n",
              "      } catch (error) {\n",
              "        console.error('Error during call to suggestCharts:', error);\n",
              "      }\n",
              "      quickchartButtonEl.classList.remove('colab-df-spinner');\n",
              "      quickchartButtonEl.classList.add('colab-df-quickchart-complete');\n",
              "    }\n",
              "    (() => {\n",
              "      let quickchartButtonEl =\n",
              "        document.querySelector('#df-03f841f9-dcaf-4bde-bfc3-db844d3731fb button');\n",
              "      quickchartButtonEl.style.display =\n",
              "        google.colab.kernel.accessAllowed ? 'block' : 'none';\n",
              "    })();\n",
              "  </script>\n",
              "</div>\n",
              "\n",
              "    </div>\n",
              "  </div>\n"
            ],
            "application/vnd.google.colaboratory.intrinsic+json": {
              "type": "dataframe",
              "variable_name": "cbb"
            }
          },
          "metadata": {},
          "execution_count": 3
        }
      ]
    },
    {
      "cell_type": "code",
      "source": [
        "## Print the number of rows and columns in the DataFrame.\n",
        "print(f'This dataframe consists of {cbb.shape[0]} rows and {cbb.shape[1]} columns')"
      ],
      "metadata": {
        "id": "7ZsVkcf7zohs",
        "colab": {
          "base_uri": "https://localhost:8080/"
        },
        "outputId": "4e71b8a8-b7a8-4f21-873f-51adf63d3222"
      },
      "execution_count": 4,
      "outputs": [
        {
          "output_type": "stream",
          "name": "stdout",
          "text": [
            "This dataframe consists of 3523 rows and 24 columns\n"
          ]
        }
      ]
    },
    {
      "cell_type": "code",
      "source": [
        "cbb.info()"
      ],
      "metadata": {
        "id": "ZCe33Qufz0DM",
        "colab": {
          "base_uri": "https://localhost:8080/"
        },
        "outputId": "f2e62b64-5e9b-4c3c-8ff5-bd54695a0317"
      },
      "execution_count": null,
      "outputs": [
        {
          "output_type": "stream",
          "name": "stdout",
          "text": [
            "<class 'pandas.core.frame.DataFrame'>\n",
            "RangeIndex: 3523 entries, 0 to 3522\n",
            "Data columns (total 24 columns):\n",
            " #   Column      Non-Null Count  Dtype  \n",
            "---  ------      --------------  -----  \n",
            " 0   TEAM        3523 non-null   object \n",
            " 1   CONF        3523 non-null   object \n",
            " 2   G           3523 non-null   int64  \n",
            " 3   W           3523 non-null   int64  \n",
            " 4   ADJOE       3523 non-null   float64\n",
            " 5   ADJDE       3523 non-null   float64\n",
            " 6   BARTHAG     3523 non-null   float64\n",
            " 7   EFG_O       3523 non-null   float64\n",
            " 8   EFG_D       3523 non-null   float64\n",
            " 9   TOR         3523 non-null   float64\n",
            " 10  TORD        3523 non-null   float64\n",
            " 11  ORB         3523 non-null   float64\n",
            " 12  DRB         3523 non-null   float64\n",
            " 13  FTR         3523 non-null   float64\n",
            " 14  FTRD        3523 non-null   float64\n",
            " 15  2P_O        3523 non-null   float64\n",
            " 16  2P_D        3523 non-null   float64\n",
            " 17  3P_O        3523 non-null   float64\n",
            " 18  3P_D        3523 non-null   float64\n",
            " 19  ADJ_T       3523 non-null   float64\n",
            " 20  WAB         3523 non-null   float64\n",
            " 21  POSTSEASON  680 non-null    object \n",
            " 22  SEED        680 non-null    float64\n",
            " 23  YEAR        3523 non-null   int64  \n",
            "dtypes: float64(18), int64(3), object(3)\n",
            "memory usage: 660.7+ KB\n"
          ]
        }
      ]
    },
    {
      "cell_type": "markdown",
      "source": [
        "After performing some preliminary examination of the dataset, this structure is full of potential features I can use. The majority of the dataset consists of numerical features quantifying performance. These include the number of games played and wins obtained, offensive and defensive efficiency per 100 possessions, BARTHAG power ratings, as well as metrics pertaining to shooting, rebounding, free throws, and tempo, all on offense and defense. There are also a few categorical variables present as well, including the names of the teams, the conference they are a member of, and the result of their postseason campaign in the NCAA Tournament. Note that only 68 teams make the tourney, so there are many teams that have no postseason result or seed. To shrink the dataset, I am only going to consider teams that make the tournament."
      ],
      "metadata": {
        "id": "NNNiqCI2zu3W"
      }
    },
    {
      "cell_type": "markdown",
      "source": [
        "\n",
        "\n"
      ],
      "metadata": {
        "id": "J39fJ_WQzAzN"
      }
    },
    {
      "cell_type": "code",
      "source": [
        "# Extract all observations where 'SEED' is not nan\n",
        "cbb = cbb.dropna(subset=['SEED'])\n",
        "cbb.info()"
      ],
      "metadata": {
        "colab": {
          "base_uri": "https://localhost:8080/"
        },
        "id": "2fPshVKD3Rzi",
        "outputId": "4c4d3e25-a5b9-42d3-a784-b7bd7c512fa4"
      },
      "execution_count": 5,
      "outputs": [
        {
          "output_type": "stream",
          "name": "stdout",
          "text": [
            "<class 'pandas.core.frame.DataFrame'>\n",
            "Index: 680 entries, 0 to 3227\n",
            "Data columns (total 24 columns):\n",
            " #   Column      Non-Null Count  Dtype  \n",
            "---  ------      --------------  -----  \n",
            " 0   TEAM        680 non-null    object \n",
            " 1   CONF        680 non-null    object \n",
            " 2   G           680 non-null    int64  \n",
            " 3   W           680 non-null    int64  \n",
            " 4   ADJOE       680 non-null    float64\n",
            " 5   ADJDE       680 non-null    float64\n",
            " 6   BARTHAG     680 non-null    float64\n",
            " 7   EFG_O       680 non-null    float64\n",
            " 8   EFG_D       680 non-null    float64\n",
            " 9   TOR         680 non-null    float64\n",
            " 10  TORD        680 non-null    float64\n",
            " 11  ORB         680 non-null    float64\n",
            " 12  DRB         680 non-null    float64\n",
            " 13  FTR         680 non-null    float64\n",
            " 14  FTRD        680 non-null    float64\n",
            " 15  2P_O        680 non-null    float64\n",
            " 16  2P_D        680 non-null    float64\n",
            " 17  3P_O        680 non-null    float64\n",
            " 18  3P_D        680 non-null    float64\n",
            " 19  ADJ_T       680 non-null    float64\n",
            " 20  WAB         680 non-null    float64\n",
            " 21  POSTSEASON  680 non-null    object \n",
            " 22  SEED        680 non-null    float64\n",
            " 23  YEAR        680 non-null    int64  \n",
            "dtypes: float64(18), int64(3), object(3)\n",
            "memory usage: 132.8+ KB\n"
          ]
        }
      ]
    },
    {
      "cell_type": "markdown",
      "source": [
        "I want to use this project to create a model that could predict whether a team has the potential make it \"deep\" in the NCAA tournament or not. For a team to meet this criteria in this dataset, they must win **three games**, or make it to the Elite 8. To begin this process, I need to distinguish Power conference teams from Mid-Major teams. Power conference teams have more funding and influence than a Mid-Major conference, so I need to include this as a quantifiable factor in the dataset. The CONF feature contains tags for each conference, so I can use unique() to figure out what the tags are for our Power Conferences."
      ],
      "metadata": {
        "id": "ZEWuwFb0Jslj"
      }
    },
    {
      "cell_type": "code",
      "source": [
        "cbb['CONF'].unique()"
      ],
      "metadata": {
        "id": "gJQZjlrC3I1a",
        "colab": {
          "base_uri": "https://localhost:8080/"
        },
        "outputId": "6352e062-279a-48f0-9b66-d368e6ac2dd8"
      },
      "execution_count": 6,
      "outputs": [
        {
          "output_type": "execute_result",
          "data": {
            "text/plain": [
              "array(['ACC', 'B10', 'B12', 'WCC', 'SEC', 'BE', 'Amer', 'P12', 'A10',\n",
              "       'MVC', 'AE', 'BSth', 'BW', 'CUSA', 'Ivy', 'MAC', 'MWC', 'OVC',\n",
              "       'SB', 'SC', 'Slnd', 'Sum', 'ASun', 'BSky', 'CAA', 'Horz', 'MAAC',\n",
              "       'MEAC', 'NEC', 'Pat', 'SWAC', 'WAC'], dtype=object)"
            ]
          },
          "metadata": {},
          "execution_count": 6
        }
      ]
    },
    {
      "cell_type": "markdown",
      "source": [
        "In College Football, the Power 5 consists of the Atlantic Coast Conference, the Big Ten, the Big Twelve, the Southeastern Conference, and the Pacific-12. In College Basketball, the Power Conferences include these 5, as well as the Big East and the American Conference. The tags for these conferences are ACC, B10, B12, SEC, P12, BE, and Amer, respectively. We can use this information to make a new feature named P7, which will indicate if a team is a Power Conference team or not."
      ],
      "metadata": {
        "id": "kL2FkYIQ3k9P"
      }
    },
    {
      "cell_type": "code",
      "source": [
        "# Power 7 Conferences are ACC, B10, B12, SEC, BE, P12, and Amer\n",
        "# Wish to create a column indicating if an entry belongs to P7 or not\n",
        "cbb['P7'] = cbb['CONF'].isin(['ACC', 'B10', 'B12', 'SEC', 'BE', 'P12', 'Amer'])\n",
        "cbb.info()"
      ],
      "metadata": {
        "id": "wnjgcDD24eGd",
        "colab": {
          "base_uri": "https://localhost:8080/"
        },
        "outputId": "65371b4f-3bcf-4c4f-9ec5-b4b2154c85b0"
      },
      "execution_count": 7,
      "outputs": [
        {
          "output_type": "stream",
          "name": "stdout",
          "text": [
            "<class 'pandas.core.frame.DataFrame'>\n",
            "Index: 680 entries, 0 to 3227\n",
            "Data columns (total 25 columns):\n",
            " #   Column      Non-Null Count  Dtype  \n",
            "---  ------      --------------  -----  \n",
            " 0   TEAM        680 non-null    object \n",
            " 1   CONF        680 non-null    object \n",
            " 2   G           680 non-null    int64  \n",
            " 3   W           680 non-null    int64  \n",
            " 4   ADJOE       680 non-null    float64\n",
            " 5   ADJDE       680 non-null    float64\n",
            " 6   BARTHAG     680 non-null    float64\n",
            " 7   EFG_O       680 non-null    float64\n",
            " 8   EFG_D       680 non-null    float64\n",
            " 9   TOR         680 non-null    float64\n",
            " 10  TORD        680 non-null    float64\n",
            " 11  ORB         680 non-null    float64\n",
            " 12  DRB         680 non-null    float64\n",
            " 13  FTR         680 non-null    float64\n",
            " 14  FTRD        680 non-null    float64\n",
            " 15  2P_O        680 non-null    float64\n",
            " 16  2P_D        680 non-null    float64\n",
            " 17  3P_O        680 non-null    float64\n",
            " 18  3P_D        680 non-null    float64\n",
            " 19  ADJ_T       680 non-null    float64\n",
            " 20  WAB         680 non-null    float64\n",
            " 21  POSTSEASON  680 non-null    object \n",
            " 22  SEED        680 non-null    float64\n",
            " 23  YEAR        680 non-null    int64  \n",
            " 24  P7          680 non-null    bool   \n",
            "dtypes: bool(1), float64(18), int64(3), object(3)\n",
            "memory usage: 133.5+ KB\n"
          ]
        }
      ]
    },
    {
      "cell_type": "markdown",
      "source": [
        "Next, I want to make my target feature, DEEP. This feature will indicate whether or not a team made it to the Elite 8 or further in their season. We can use the same method we used to create the P7 feature."
      ],
      "metadata": {
        "id": "y9niL2CE4l6B"
      }
    },
    {
      "cell_type": "code",
      "source": [
        "# My target variable for this project is going to be teams \"going deep\" in the\n",
        "# NCAA tournament. To go deep, you need to win at least 3 games, or make it to\n",
        "# the Elite 8, denoted by E8 in the POSTSEASON feature set.\n",
        "# I am going to create a feature named DEEP that meets this category.\n",
        "print(cbb['POSTSEASON'].unique())\n",
        "print(cbb['SEED'].unique())\n",
        "\n",
        "# Teams denoted as Champion, 2ND, F4, or E8 meet this category.\n",
        "cbb['DEEP'] = cbb['POSTSEASON'].isin(['Champions', '2ND', 'F4', 'E8'])\n",
        "cbb.info()"
      ],
      "metadata": {
        "id": "O5tmsRaX5O-3",
        "colab": {
          "base_uri": "https://localhost:8080/"
        },
        "outputId": "a52d4386-5d71-4e33-b94b-18097cdb5a46"
      },
      "execution_count": 8,
      "outputs": [
        {
          "output_type": "stream",
          "name": "stdout",
          "text": [
            "['2ND' 'Champions' 'E8' 'F4' 'R32' 'R64' 'R68' 'S16']\n",
            "[ 1.  3.  8.  4.  2.  7.  6.  9. 11. 10.  5. 16. 12. 13. 14. 15.]\n",
            "<class 'pandas.core.frame.DataFrame'>\n",
            "Index: 680 entries, 0 to 3227\n",
            "Data columns (total 26 columns):\n",
            " #   Column      Non-Null Count  Dtype  \n",
            "---  ------      --------------  -----  \n",
            " 0   TEAM        680 non-null    object \n",
            " 1   CONF        680 non-null    object \n",
            " 2   G           680 non-null    int64  \n",
            " 3   W           680 non-null    int64  \n",
            " 4   ADJOE       680 non-null    float64\n",
            " 5   ADJDE       680 non-null    float64\n",
            " 6   BARTHAG     680 non-null    float64\n",
            " 7   EFG_O       680 non-null    float64\n",
            " 8   EFG_D       680 non-null    float64\n",
            " 9   TOR         680 non-null    float64\n",
            " 10  TORD        680 non-null    float64\n",
            " 11  ORB         680 non-null    float64\n",
            " 12  DRB         680 non-null    float64\n",
            " 13  FTR         680 non-null    float64\n",
            " 14  FTRD        680 non-null    float64\n",
            " 15  2P_O        680 non-null    float64\n",
            " 16  2P_D        680 non-null    float64\n",
            " 17  3P_O        680 non-null    float64\n",
            " 18  3P_D        680 non-null    float64\n",
            " 19  ADJ_T       680 non-null    float64\n",
            " 20  WAB         680 non-null    float64\n",
            " 21  POSTSEASON  680 non-null    object \n",
            " 22  SEED        680 non-null    float64\n",
            " 23  YEAR        680 non-null    int64  \n",
            " 24  P7          680 non-null    bool   \n",
            " 25  DEEP        680 non-null    bool   \n",
            "dtypes: bool(2), float64(18), int64(3), object(3)\n",
            "memory usage: 134.1+ KB\n"
          ]
        }
      ]
    },
    {
      "cell_type": "markdown",
      "source": [
        "I also want to modify the POSTSEASON feature so that it is no longer categorical. To do this, I am going to replace each of the observations present with a number from 0 to 7, with 0 being a team that didn't make the tournament and 7 being a team that won it."
      ],
      "metadata": {
        "id": "mUAuik_U51Xv"
      }
    },
    {
      "cell_type": "code",
      "source": [
        "# I also want to transform POSTSEASON into a numerical variable, with teams\n",
        "# gaining a point for each round they advance to. I am now going to replace\n",
        "# each of them with a number. Note that I am treating R68 and R64 the same\n",
        "# since only 8 teams play in the Round of 64.\n",
        "replace = {\n",
        "    np.nan : 0,\n",
        "    'R68': 1,\n",
        "    'R64': 1,\n",
        "    'R32': 2,\n",
        "    'S16': 3,\n",
        "    'E8': 4,\n",
        "    'F4': 5,\n",
        "    '2ND': 6,\n",
        "    'Champions': 7\n",
        "}\n",
        "\n",
        "cbb['POSTSEASON'] = cbb['POSTSEASON'].replace(replace).astype(int)\n",
        "\n",
        "cbb.info()"
      ],
      "metadata": {
        "id": "zO8dMxgs6WsO",
        "colab": {
          "base_uri": "https://localhost:8080/"
        },
        "outputId": "edb723ed-0c08-4ab3-fb72-3dfec6eaa1b4"
      },
      "execution_count": 9,
      "outputs": [
        {
          "output_type": "stream",
          "name": "stdout",
          "text": [
            "<class 'pandas.core.frame.DataFrame'>\n",
            "Index: 680 entries, 0 to 3227\n",
            "Data columns (total 26 columns):\n",
            " #   Column      Non-Null Count  Dtype  \n",
            "---  ------      --------------  -----  \n",
            " 0   TEAM        680 non-null    object \n",
            " 1   CONF        680 non-null    object \n",
            " 2   G           680 non-null    int64  \n",
            " 3   W           680 non-null    int64  \n",
            " 4   ADJOE       680 non-null    float64\n",
            " 5   ADJDE       680 non-null    float64\n",
            " 6   BARTHAG     680 non-null    float64\n",
            " 7   EFG_O       680 non-null    float64\n",
            " 8   EFG_D       680 non-null    float64\n",
            " 9   TOR         680 non-null    float64\n",
            " 10  TORD        680 non-null    float64\n",
            " 11  ORB         680 non-null    float64\n",
            " 12  DRB         680 non-null    float64\n",
            " 13  FTR         680 non-null    float64\n",
            " 14  FTRD        680 non-null    float64\n",
            " 15  2P_O        680 non-null    float64\n",
            " 16  2P_D        680 non-null    float64\n",
            " 17  3P_O        680 non-null    float64\n",
            " 18  3P_D        680 non-null    float64\n",
            " 19  ADJ_T       680 non-null    float64\n",
            " 20  WAB         680 non-null    float64\n",
            " 21  POSTSEASON  680 non-null    int64  \n",
            " 22  SEED        680 non-null    float64\n",
            " 23  YEAR        680 non-null    int64  \n",
            " 24  P7          680 non-null    bool   \n",
            " 25  DEEP        680 non-null    bool   \n",
            "dtypes: bool(2), float64(18), int64(4), object(2)\n",
            "memory usage: 134.1+ KB\n"
          ]
        }
      ]
    },
    {
      "cell_type": "markdown",
      "source": [
        "Lastly, I am going to remove the TEAM, CONF, YEAR, POSTSEASON, and G features from the dataset. Each observation should be treated as a blind resume, with only numbers present. The CONF feature is also no longer needed, as the P7 feature quantifies it. I believe that the YEAR feature doesn't add anything, and only confuses the model since there aren't more teams making it to the Elite 8 or further each year (only 8 teams advance this far every year). I am also removing the POSTSEASON feature because it is not predictive and is accounted for by the target variable DEEP. Finally, I am removing G because I think that W is a similar enough feature, as the more games you play, the more games you win, and the better you will typically do."
      ],
      "metadata": {
        "id": "EN-UpUia6gVX"
      }
    },
    {
      "cell_type": "code",
      "execution_count": 10,
      "metadata": {
        "id": "Tg419imo4f6U",
        "colab": {
          "base_uri": "https://localhost:8080/"
        },
        "outputId": "a870769c-8e81-42f9-bcb0-dfe242edb6d3"
      },
      "outputs": [
        {
          "output_type": "stream",
          "name": "stdout",
          "text": [
            "<class 'pandas.core.frame.DataFrame'>\n",
            "Index: 680 entries, 0 to 3227\n",
            "Data columns (total 21 columns):\n",
            " #   Column   Non-Null Count  Dtype  \n",
            "---  ------   --------------  -----  \n",
            " 0   W        680 non-null    int64  \n",
            " 1   ADJOE    680 non-null    float64\n",
            " 2   ADJDE    680 non-null    float64\n",
            " 3   BARTHAG  680 non-null    float64\n",
            " 4   EFG_O    680 non-null    float64\n",
            " 5   EFG_D    680 non-null    float64\n",
            " 6   TOR      680 non-null    float64\n",
            " 7   TORD     680 non-null    float64\n",
            " 8   ORB      680 non-null    float64\n",
            " 9   DRB      680 non-null    float64\n",
            " 10  FTR      680 non-null    float64\n",
            " 11  FTRD     680 non-null    float64\n",
            " 12  2P_O     680 non-null    float64\n",
            " 13  2P_D     680 non-null    float64\n",
            " 14  3P_O     680 non-null    float64\n",
            " 15  3P_D     680 non-null    float64\n",
            " 16  ADJ_T    680 non-null    float64\n",
            " 17  WAB      680 non-null    float64\n",
            " 18  SEED     680 non-null    float64\n",
            " 19  P7       680 non-null    bool   \n",
            " 20  DEEP     680 non-null    bool   \n",
            "dtypes: bool(2), float64(18), int64(1)\n",
            "memory usage: 107.6 KB\n"
          ]
        }
      ],
      "source": [
        "# Removing TEAM feature, as supposed to view these as blind resumes\n",
        "cbb = cbb.drop(['TEAM', 'CONF', 'YEAR', 'POSTSEASON', 'G'], axis=1)\n",
        "\n",
        "cbb.info()"
      ]
    },
    {
      "cell_type": "markdown",
      "source": [
        "Note that we are now down to 20 features, including the target feature, with these creations. We need to convert all non-float features to a float to make it easier to model. For the boolean cases, 1 will represent True and 0 will represent False."
      ],
      "metadata": {
        "id": "hUCMegFO9h7h"
      }
    },
    {
      "cell_type": "code",
      "source": [
        "cbb['W'] = cbb['W'].astype(float)\n",
        "cbb['SEED'] = cbb['SEED'].astype(float)\n",
        "cbb['P7'] = cbb['P7'].astype(float)\n",
        "cbb['DEEP'] = cbb['DEEP'].astype(float)\n",
        "\n",
        "cbb.info()"
      ],
      "metadata": {
        "id": "L60k3ABO-7ez",
        "colab": {
          "base_uri": "https://localhost:8080/"
        },
        "outputId": "37cf812b-454a-4b3b-a1b3-b6a1c611acd5"
      },
      "execution_count": 11,
      "outputs": [
        {
          "output_type": "stream",
          "name": "stdout",
          "text": [
            "<class 'pandas.core.frame.DataFrame'>\n",
            "Index: 680 entries, 0 to 3227\n",
            "Data columns (total 21 columns):\n",
            " #   Column   Non-Null Count  Dtype  \n",
            "---  ------   --------------  -----  \n",
            " 0   W        680 non-null    float64\n",
            " 1   ADJOE    680 non-null    float64\n",
            " 2   ADJDE    680 non-null    float64\n",
            " 3   BARTHAG  680 non-null    float64\n",
            " 4   EFG_O    680 non-null    float64\n",
            " 5   EFG_D    680 non-null    float64\n",
            " 6   TOR      680 non-null    float64\n",
            " 7   TORD     680 non-null    float64\n",
            " 8   ORB      680 non-null    float64\n",
            " 9   DRB      680 non-null    float64\n",
            " 10  FTR      680 non-null    float64\n",
            " 11  FTRD     680 non-null    float64\n",
            " 12  2P_O     680 non-null    float64\n",
            " 13  2P_D     680 non-null    float64\n",
            " 14  3P_O     680 non-null    float64\n",
            " 15  3P_D     680 non-null    float64\n",
            " 16  ADJ_T    680 non-null    float64\n",
            " 17  WAB      680 non-null    float64\n",
            " 18  SEED     680 non-null    float64\n",
            " 19  P7       680 non-null    float64\n",
            " 20  DEEP     680 non-null    float64\n",
            "dtypes: float64(21)\n",
            "memory usage: 116.9 KB\n"
          ]
        }
      ]
    },
    {
      "cell_type": "markdown",
      "source": [
        "Now, in summary, I have tidied up this dataset by quantifying categorical variables, accounting for NAs, removing redundant or unnecessary features, and selecting a target feature to analyze in DEEP. In my next report, I will select a model to move forward with. Based on my experiences in class, I plan to try and utilize methods learned in the classification section. I also plan on applying Stratified Splits to my modeling, as there are very few teams that will meet the criteria to have gone deep (see below)."
      ],
      "metadata": {
        "id": "BRa-yppe-Pc2"
      }
    },
    {
      "cell_type": "code",
      "source": [
        "cbb['DEEP'].value_counts()"
      ],
      "metadata": {
        "id": "48VierNLB9eS",
        "colab": {
          "base_uri": "https://localhost:8080/",
          "height": 178
        },
        "outputId": "fc79ca77-6d88-4c92-c0a3-db2a8dc5f019"
      },
      "execution_count": 10,
      "outputs": [
        {
          "output_type": "execute_result",
          "data": {
            "text/plain": [
              "DEEP\n",
              "0.0    600\n",
              "1.0     80\n",
              "Name: count, dtype: int64"
            ],
            "text/html": [
              "<div>\n",
              "<style scoped>\n",
              "    .dataframe tbody tr th:only-of-type {\n",
              "        vertical-align: middle;\n",
              "    }\n",
              "\n",
              "    .dataframe tbody tr th {\n",
              "        vertical-align: top;\n",
              "    }\n",
              "\n",
              "    .dataframe thead th {\n",
              "        text-align: right;\n",
              "    }\n",
              "</style>\n",
              "<table border=\"1\" class=\"dataframe\">\n",
              "  <thead>\n",
              "    <tr style=\"text-align: right;\">\n",
              "      <th></th>\n",
              "      <th>count</th>\n",
              "    </tr>\n",
              "    <tr>\n",
              "      <th>DEEP</th>\n",
              "      <th></th>\n",
              "    </tr>\n",
              "  </thead>\n",
              "  <tbody>\n",
              "    <tr>\n",
              "      <th>0.0</th>\n",
              "      <td>600</td>\n",
              "    </tr>\n",
              "    <tr>\n",
              "      <th>1.0</th>\n",
              "      <td>80</td>\n",
              "    </tr>\n",
              "  </tbody>\n",
              "</table>\n",
              "</div><br><label><b>dtype:</b> int64</label>"
            ]
          },
          "metadata": {},
          "execution_count": 10
        }
      ]
    },
    {
      "cell_type": "code",
      "source": [
        "cbb.to_csv('cbb_cleaned.csv', index=False)"
      ],
      "metadata": {
        "id": "Xq8oAbSRBQRH"
      },
      "execution_count": 12,
      "outputs": []
    }
  ],
  "metadata": {
    "colab": {
      "provenance": [],
      "collapsed_sections": [
        "VEZNBf0fxMaS"
      ]
    },
    "kernelspec": {
      "display_name": "Python 3",
      "name": "python3"
    },
    "language_info": {
      "name": "python"
    }
  },
  "nbformat": 4,
  "nbformat_minor": 0
}